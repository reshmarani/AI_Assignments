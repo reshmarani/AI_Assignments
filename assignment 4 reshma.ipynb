{
 "cells": [
  {
   "cell_type": "code",
   "execution_count": 2,
   "metadata": {},
   "outputs": [
    {
     "data": {
      "text/html": [
       "<div>\n",
       "<style scoped>\n",
       "    .dataframe tbody tr th:only-of-type {\n",
       "        vertical-align: middle;\n",
       "    }\n",
       "\n",
       "    .dataframe tbody tr th {\n",
       "        vertical-align: top;\n",
       "    }\n",
       "\n",
       "    .dataframe thead th {\n",
       "        text-align: right;\n",
       "    }\n",
       "</style>\n",
       "<table border=\"1\" class=\"dataframe\">\n",
       "  <thead>\n",
       "    <tr style=\"text-align: right;\">\n",
       "      <th></th>\n",
       "      <th>Department</th>\n",
       "      <th>age</th>\n",
       "      <th>name</th>\n",
       "      <th>salary</th>\n",
       "      <th>year</th>\n",
       "    </tr>\n",
       "  </thead>\n",
       "  <tbody>\n",
       "    <tr>\n",
       "      <th>0</th>\n",
       "      <td>HR</td>\n",
       "      <td>25</td>\n",
       "      <td>Alice</td>\n",
       "      <td>50000</td>\n",
       "      <td>1990</td>\n",
       "    </tr>\n",
       "    <tr>\n",
       "      <th>1</th>\n",
       "      <td>RD</td>\n",
       "      <td>30</td>\n",
       "      <td>bob</td>\n",
       "      <td>48000</td>\n",
       "      <td>1990</td>\n",
       "    </tr>\n",
       "    <tr>\n",
       "      <th>2</th>\n",
       "      <td>Admin</td>\n",
       "      <td>45</td>\n",
       "      <td>charlie</td>\n",
       "      <td>55000</td>\n",
       "      <td>1990</td>\n",
       "    </tr>\n",
       "    <tr>\n",
       "      <th>3</th>\n",
       "      <td>HR</td>\n",
       "      <td>26</td>\n",
       "      <td>Alice</td>\n",
       "      <td>52000</td>\n",
       "      <td>1991</td>\n",
       "    </tr>\n",
       "    <tr>\n",
       "      <th>4</th>\n",
       "      <td>RD</td>\n",
       "      <td>31</td>\n",
       "      <td>bob</td>\n",
       "      <td>50000</td>\n",
       "      <td>1991</td>\n",
       "    </tr>\n",
       "    <tr>\n",
       "      <th>5</th>\n",
       "      <td>Admin</td>\n",
       "      <td>46</td>\n",
       "      <td>charlie</td>\n",
       "      <td>60000</td>\n",
       "      <td>1991</td>\n",
       "    </tr>\n",
       "    <tr>\n",
       "      <th>6</th>\n",
       "      <td>Admin</td>\n",
       "      <td>27</td>\n",
       "      <td>Alice</td>\n",
       "      <td>60000</td>\n",
       "      <td>1992</td>\n",
       "    </tr>\n",
       "    <tr>\n",
       "      <th>7</th>\n",
       "      <td>RD</td>\n",
       "      <td>32</td>\n",
       "      <td>bob</td>\n",
       "      <td>52000</td>\n",
       "      <td>1992</td>\n",
       "    </tr>\n",
       "    <tr>\n",
       "      <th>8</th>\n",
       "      <td>Admin</td>\n",
       "      <td>28</td>\n",
       "      <td>charlie</td>\n",
       "      <td>62000</td>\n",
       "      <td>1992</td>\n",
       "    </tr>\n",
       "  </tbody>\n",
       "</table>\n",
       "</div>"
      ],
      "text/plain": [
       "  Department  age     name  salary  year\n",
       "0         HR   25    Alice   50000  1990\n",
       "1         RD   30      bob   48000  1990\n",
       "2      Admin   45  charlie   55000  1990\n",
       "3         HR   26    Alice   52000  1991\n",
       "4         RD   31      bob   50000  1991\n",
       "5      Admin   46  charlie   60000  1991\n",
       "6      Admin   27    Alice   60000  1992\n",
       "7         RD   32      bob   52000  1992\n",
       "8      Admin   28  charlie   62000  1992"
      ]
     },
     "execution_count": 2,
     "metadata": {},
     "output_type": "execute_result"
    }
   ],
   "source": [
    "#assignment\n",
    "import pandas as pd\n",
    "j=[{'year':1990,'name':'Alice','Department':'HR','age':25,'salary':50000},\n",
    "        {'year':1990,'name':'bob','Department':'RD','age':30,'salary':48000},\n",
    "        {'year':1990,'name':'charlie','Department':'Admin','age':45,'salary':55000},\n",
    "        {'year':1991,'name':'Alice','Department':'HR','age':26,'salary':52000},\n",
    "        {'year':1991,'name':'bob','Department':'RD','age':31,'salary':50000},\n",
    "        {'year':1991,'name':'charlie','Department':'Admin','age':46,'salary':60000},\n",
    "        {'year':1992,'name':'Alice','Department':'Admin','age':27,'salary':60000},\n",
    "        {'year':1992,'name':'bob','Department':'RD','age':32,'salary':52000},\n",
    "    {'year':1992,'name':'charlie','Department':'Admin','age':28,'salary':62000}]\n",
    "\n",
    "j_info=pd.DataFrame(j,index=[0,1,2,3,4,5,6,7,8])\n",
    "j_info\n",
    "        \n",
    "        \n"
   ]
  },
  {
   "cell_type": "code",
   "execution_count": 3,
   "metadata": {},
   "outputs": [
    {
     "data": {
      "text/plain": [
       "year\n",
       "1990    153000\n",
       "1991    162000\n",
       "1992    174000\n",
       "Name: salary, dtype: int64"
      ]
     },
     "execution_count": 3,
     "metadata": {},
     "output_type": "execute_result"
    }
   ],
   "source": [
    "j_info.groupby(['year'])['salary'].sum()"
   ]
  },
  {
   "cell_type": "code",
   "execution_count": 4,
   "metadata": {},
   "outputs": [
    {
     "data": {
      "text/plain": [
       "name\n",
       "Alice      162000\n",
       "bob        150000\n",
       "charlie    177000\n",
       "Name: salary, dtype: int64"
      ]
     },
     "execution_count": 4,
     "metadata": {},
     "output_type": "execute_result"
    }
   ],
   "source": [
    "j_info.groupby(['name'])['salary'].sum()"
   ]
  },
  {
   "cell_type": "code",
   "execution_count": 5,
   "metadata": {},
   "outputs": [
    {
     "data": {
      "text/plain": [
       "name     year  age  Department\n",
       "Alice    1990  25   HR            50000\n",
       "         1991  26   HR            52000\n",
       "         1992  27   Admin         60000\n",
       "bob      1990  30   RD            48000\n",
       "         1991  31   RD            50000\n",
       "         1992  32   RD            52000\n",
       "charlie  1990  45   Admin         55000\n",
       "         1991  46   Admin         60000\n",
       "         1992  28   Admin         62000\n",
       "Name: salary, dtype: int64"
      ]
     },
     "execution_count": 5,
     "metadata": {},
     "output_type": "execute_result"
    }
   ],
   "source": [
    "j_info.groupby(['name','year','age','Department'])['salary'].sum()"
   ]
  }
 ],
 "metadata": {
  "kernelspec": {
   "display_name": "Python 3",
   "language": "python",
   "name": "python3"
  },
  "language_info": {
   "codemirror_mode": {
    "name": "ipython",
    "version": 3
   },
   "file_extension": ".py",
   "mimetype": "text/x-python",
   "name": "python",
   "nbconvert_exporter": "python",
   "pygments_lexer": "ipython3",
   "version": "3.7.3"
  }
 },
 "nbformat": 4,
 "nbformat_minor": 2
}
