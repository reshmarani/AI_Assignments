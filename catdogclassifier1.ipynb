{
  "nbformat": 4,
  "nbformat_minor": 0,
  "metadata": {
    "colab": {
      "name": "catdogclassifier1",
      "version": "0.3.2",
      "provenance": [],
      "collapsed_sections": [],
      "include_colab_link": true
    },
    "kernelspec": {
      "name": "python3",
      "display_name": "Python 3"
    }
  },
  "cells": [
    {
      "cell_type": "markdown",
      "metadata": {
        "id": "view-in-github",
        "colab_type": "text"
      },
      "source": [
        "<a href=\"https://colab.research.google.com/github/reshmarani/AI_Assignments/blob/master/catdogclassifier1.ipynb\" target=\"_parent\"><img src=\"https://colab.research.google.com/assets/colab-badge.svg\" alt=\"Open In Colab\"/></a>"
      ]
    },
    {
      "cell_type": "code",
      "metadata": {
        "id": "hRSwvxf327KI",
        "colab_type": "code",
        "outputId": "b29d9110-cdee-47dd-9a71-c1c77855bab2",
        "colab": {
          "base_uri": "https://localhost:8080/",
          "height": 34
        }
      },
      "source": [
        "import tensorflow as tf\n",
        "import matplotlib.pyplot as plt\n",
        "%matplotlib inline\n",
        "from tqdm import tqdm\n",
        "import numpy as np\n",
        "import os\n",
        "from random import shuffle\n",
        "import cv2 \n",
        "\n",
        "\n",
        "\n",
        "from google.colab import drive\n",
        "drive.mount(\"/content/drive\")\n"
      ],
      "execution_count": 0,
      "outputs": [
        {
          "output_type": "stream",
          "text": [
            "Drive already mounted at /content/drive; to attempt to forcibly remount, call drive.mount(\"/content/drive\", force_remount=True).\n"
          ],
          "name": "stdout"
        }
      ]
    },
    {
      "cell_type": "code",
      "metadata": {
        "id": "wIP5zyWI3JLh",
        "colab_type": "code",
        "colab": {}
      },
      "source": [
        "train_file = \"/content/drive/My Drive/Colab Notebooks/train.zip\"\n",
        "test_file = \"/content/drive/My Drive/Colab Notebooks/test.zip\"\n"
      ],
      "execution_count": 0,
      "outputs": []
    },
    {
      "cell_type": "code",
      "metadata": {
        "id": "iRtyIavB3MHl",
        "colab_type": "code",
        "colab": {}
      },
      "source": [
        "import zipfile\n",
        "\n",
        "with zipfile.ZipFile(train_file,'r') as z:\n",
        "  z.extractall()\n",
        "with zipfile.ZipFile(test_file,'r') as z:\n",
        "  z.extractall()"
      ],
      "execution_count": 0,
      "outputs": []
    },
    {
      "cell_type": "code",
      "metadata": {
        "id": "dwLd6nm83PfT",
        "colab_type": "code",
        "outputId": "01ca16de-1888-464b-d44f-6710155112e0",
        "colab": {
          "base_uri": "https://localhost:8080/",
          "height": 34
        }
      },
      "source": [
        "ls"
      ],
      "execution_count": 0,
      "outputs": [
        {
          "output_type": "stream",
          "text": [
            "\u001b[0m\u001b[01;34mdrive\u001b[0m/  \u001b[01;34mlog\u001b[0m/  \u001b[01;34msample_data\u001b[0m/  \u001b[01;34mtest\u001b[0m/  \u001b[01;34mtrain\u001b[0m/  train_data.npy\n"
          ],
          "name": "stdout"
        }
      ]
    },
    {
      "cell_type": "code",
      "metadata": {
        "id": "2e50v_tP3TC-",
        "colab_type": "code",
        "colab": {}
      },
      "source": [
        "TEST_DIR = \"./test/\"\n",
        "TRAIN_DIR= \"./train/\"\n",
        "LEARNING_RATE= 1e-3\n",
        "MODEL_NAME = \"dogsvscats-{}-{}.model\".format(LEARNING_RATE,\"6conv-fire\")\n",
        "IMG_SIZE = 50"
      ],
      "execution_count": 0,
      "outputs": []
    },
    {
      "cell_type": "code",
      "metadata": {
        "id": "B2otkNhT3YQI",
        "colab_type": "code",
        "colab": {}
      },
      "source": [
        "def label_image(img):\n",
        "  img_name = img.split(\".\")[-3]\n",
        "  if img_name == \"cat\":\n",
        "    return [1,0]\n",
        "  elif img_name == \"dog\" :\n",
        "    return [0,1]"
      ],
      "execution_count": 0,
      "outputs": []
    },
    {
      "cell_type": "code",
      "metadata": {
        "id": "9x9iDdj_3b_5",
        "colab_type": "code",
        "colab": {}
      },
      "source": [
        "#IMAGE_SIZE =50\n",
        "def create_train_data():\n",
        "  training_data=[]\n",
        "  \n",
        "  \n",
        "  for img in tqdm(os.listdir(TRAIN_DIR)):\n",
        "    label = label_image(img)\n",
        "    path= os.path .join (TRAIN_DIR,img)\n",
        "    img = cv2.imread(path,cv2.IMREAD_GRAYSCALE)\n",
        "    img = cv2.resize(img, (IMG_SIZE,IMG_SIZE))\n",
        "    training_data.append([np.array(img),np.array(label)])\n",
        "  shuffle(training_data)\n",
        "  np.save('train_data.npy',training_data)\n",
        "  return training_data"
      ],
      "execution_count": 0,
      "outputs": []
    },
    {
      "cell_type": "code",
      "metadata": {
        "id": "FX9JJ_k_3g0I",
        "colab_type": "code",
        "outputId": "9f4ea69d-20fb-4a88-ac07-dc917b4bde2c",
        "colab": {
          "base_uri": "https://localhost:8080/",
          "height": 34
        }
      },
      "source": [
        "train_data=create_train_data()\n",
        "#train_data()= np.load('train_data.npy')\n",
        "\n"
      ],
      "execution_count": 0,
      "outputs": [
        {
          "output_type": "stream",
          "text": [
            "100%|██████████| 25000/25000 [00:26<00:00, 943.60it/s]\n"
          ],
          "name": "stderr"
        }
      ]
    },
    {
      "cell_type": "code",
      "metadata": {
        "id": "ooqhz0BP3joC",
        "colab_type": "code",
        "colab": {}
      },
      "source": [
        "import tflearn\n",
        "from tflearn.layers.conv import conv_2d , max_pool_2d\n",
        "from tflearn.layers.core import input_data , dropout , fully_connected\n",
        "from tflearn.layers.estimator import regression\n"
      ],
      "execution_count": 0,
      "outputs": []
    },
    {
      "cell_type": "code",
      "metadata": {
        "id": "7cfVUynG3sZy",
        "colab_type": "code",
        "colab": {}
      },
      "source": [
        "convnet = input_data(shape=[None , IMG_SIZE , IMG_SIZE ,1] , name='input')\n",
        " \n",
        "convnet = conv_2d(convnet , 32 , 5 , activation= 'relu')\n",
        "convnet = max_pool_2d(convnet,5)\n",
        "\n",
        "convnet = conv_2d(convnet , 64 , 5 , activation= 'relu')\n",
        "convnet = max_pool_2d(convnet,5)\n",
        "\n",
        "\n",
        "convnet = conv_2d(convnet , 128 , 5 , activation= 'relu')\n",
        "convnet = max_pool_2d(convnet,5)\n",
        "\n",
        "convnet = conv_2d(convnet , 1000 , 5 , activation= 'relu')\n",
        "convnet = max_pool_2d(convnet,5)\n",
        "\n",
        "\n",
        "convnet = fully_connected(convnet , 1024 , activation= 'relu')\n",
        "convnet = dropout (convnet , 0.8)\n",
        "\n",
        "convnet = fully_connected(convnet , 2 , activation= 'softmax')\n",
        "convnet = regression(convnet , optimizer = 'adam', learning_rate=LEARNING_RATE , loss ='categorical_crossentropy',name ='targets')\n",
        "\n",
        "model=tflearn.DNN(convnet,tensorboard_dir='log')\n",
        "\n"
      ],
      "execution_count": 0,
      "outputs": []
    },
    {
      "cell_type": "code",
      "metadata": {
        "id": "ihgOS4ig3vAd",
        "colab_type": "code",
        "colab": {}
      },
      "source": [
        "import tensorflow as tf\n",
        "tf.reset_default_graph()\n",
        "\n",
        "convnet = input_data(shape=[None,IMG_SIZE,IMG_SIZE,1],name ='input')\n",
        "\n",
        "convnet = conv_2d(convnet , 32 , 5 , activation = 'relu')\n",
        "convnet = max_pool_2d(convnet,5)\n",
        "\n",
        "convnet = conv_2d(convnet , 64 , 5 , activation = 'relu')\n",
        "convnet = max_pool_2d(convnet,5)\n",
        "\n",
        "\n",
        "convnet = conv_2d(convnet , 128 , 5 , activation = 'relu')\n",
        "convnet = max_pool_2d(convnet,5)\n",
        "\n",
        "convnet = conv_2d(convnet , 1000, 5 , activation = 'relu')\n",
        "convnet = max_pool_2d(convnet,5)\n",
        "\n",
        "convnet = fully_connected(convnet , 1024 , activation ='relu')\n",
        "convnet = dropout(convnet , 0.8)\n",
        "\n",
        "convnet = fully_connected(convnet , 2, activation= 'softmax')\n",
        "convnet = regression(convnet,optimizer='adam',learning_rate=LEARNING_RATE,loss='categorical_crossentropy',name='targets')\n",
        "\n",
        "\n",
        "model= tflearn.DNN(convnet,tensorboard_dir='log')\n",
        "\n"
      ],
      "execution_count": 0,
      "outputs": []
    },
    {
      "cell_type": "code",
      "metadata": {
        "id": "XuxPErtN3zBc",
        "colab_type": "code",
        "colab": {}
      },
      "source": [
        "if os.path.exists('{}.meta'.format(MODEL_NAME)):\n",
        "    model.load(MODEL_NAME)\n",
        "    print('model loaded!')\n",
        "  "
      ],
      "execution_count": 0,
      "outputs": []
    },
    {
      "cell_type": "code",
      "metadata": {
        "id": "NLrB28Dk32x0",
        "colab_type": "code",
        "colab": {}
      },
      "source": [
        "train = train_data[:-500]\n",
        "test = train_data[-500:]"
      ],
      "execution_count": 0,
      "outputs": []
    },
    {
      "cell_type": "code",
      "metadata": {
        "id": "rV0ANIXj3_Tu",
        "colab_type": "code",
        "colab": {}
      },
      "source": [
        "X = np.array([i[0] for i in train]).reshape(-1,IMG_SIZE,IMG_SIZE,1)\n",
        "Y= [i[1] for i in train]\n",
        "\n",
        "test_x = np.array([i[0] for i in test]).reshape(-1,IMG_SIZE,IMG_SIZE,1)\n",
        "test_y = [i[1] for i in test]\n"
      ],
      "execution_count": 0,
      "outputs": []
    },
    {
      "cell_type": "code",
      "metadata": {
        "id": "8V3jsvAK4CcM",
        "colab_type": "code",
        "outputId": "2cc6fc99-72ed-4fd4-b964-76d2b137d1f2",
        "colab": {
          "base_uri": "https://localhost:8080/",
          "height": 102
        }
      },
      "source": [
        "model.fit({'input':X}, {'targets':Y}, n_epoch= 3,validation_set=({'input': test_x} , {'targets': test_y}),\n",
        "          snapshot_step=50, show_metric=True, run_id=MODEL_NAME)\n",
        "          "
      ],
      "execution_count": 0,
      "outputs": [
        {
          "output_type": "stream",
          "text": [
            "Training Step: 1148  | total loss: \u001b[1m\u001b[32m11.28947\u001b[0m\u001b[0m | time: 386.703s\n",
            "| Adam | epoch: 003 | loss: 11.28947 - acc: 0.5097 -- iter: 24448/24500\n",
            "Training Step: 1149  | total loss: \u001b[1m\u001b[32m11.27584\u001b[0m\u001b[0m | time: 388.700s\n",
            "| Adam | epoch: 003 | loss: 11.27584 - acc: 0.5103 | val_loss: 11.42082 - val_acc: 0.5040 -- iter: 24500/24500\n",
            "--\n"
          ],
          "name": "stdout"
        }
      ]
    },
    {
      "cell_type": "code",
      "metadata": {
        "id": "wIaaVeiM4FdU",
        "colab_type": "code",
        "outputId": "6f86e103-62db-4006-dd67-b981a96d5d45",
        "colab": {
          "base_uri": "https://localhost:8080/",
          "height": 34
        }
      },
      "source": [
        "# if you need to create the data:\n",
        "#test_data = process_test_data()\n",
        "#if you already have some saved:\n",
        "#test-data = np.load('test_data.npy')\n",
        "testing_data =[]\n",
        "for img in tqdm(os.listdir(\"./test/\")):\n",
        "  path =os.path.join(\"./test\" , img)\n",
        "  img_num = img.split('.')[0]\n",
        "  img = cv2.imread(path,cv2.IMREAD_GRAYSCALE)\n",
        "  img = cv2.resize(img , (IMG_SIZE , IMG_SIZE))\n",
        "  testing_data.append([np.array(img), img_num])  "
      ],
      "execution_count": 0,
      "outputs": [
        {
          "output_type": "stream",
          "text": [
            "100%|██████████| 12500/12500 [00:13<00:00, 931.56it/s]\n"
          ],
          "name": "stderr"
        }
      ]
    },
    {
      "cell_type": "code",
      "metadata": {
        "id": "_j_SuaTH4OeB",
        "colab_type": "code",
        "outputId": "fad17d83-8edd-4fe2-a1d3-6ea8a01d5421",
        "colab": {
          "base_uri": "https://localhost:8080/",
          "height": 264
        }
      },
      "source": [
        "fig=plt.figure()\n",
        "for num,data in enumerate(testing_data[:10]):\n",
        "  # cat: [1,0]\n",
        "  # dog: [0,1]\n",
        "  \n",
        "  img_num = data[1]\n",
        "  img_data=data[0]\n",
        "  \n",
        "  y= fig.add_subplot(3,4,num+1)\n",
        "  orig= img_data\n",
        "  data = img_data.reshape(IMG_SIZE,IMG_SIZE,1)\n",
        "  #model_out = model.predict([data])[0]\n",
        "  model_out = model.predict([data])[0]\n",
        "  \n",
        "  if np.argmax(model_out)== 0: str_label='Dog'\n",
        "  else: str_label='Cat'\n",
        "    \n",
        "  y.imshow(orig,cmap ='gray')\n",
        "  plt.title(str_label)\n",
        "  y.axes.get_xaxis().set_visible(False)\n",
        "  y.axes.get_yaxis().set_visible(False)\n",
        "plt.show()"
      ],
      "execution_count": 0,
      "outputs": [
        {
          "output_type": "display_data",
          "data": {
            "image/png": "[encoded data removed]",
            "text/plain": [
              "<Figure size 432x288 with 10 Axes>"
            ]
          },
          "metadata": {
            "tags": []
          }
        }
      ]
    },
    {
      "cell_type": "code",
      "metadata": {
        "id": "mA2sPMNA5WKO",
        "colab_type": "code",
        "colab": {}
      },
      "source": [
        ""
      ],
      "execution_count": 0,
      "outputs": []
    }
  ]
}