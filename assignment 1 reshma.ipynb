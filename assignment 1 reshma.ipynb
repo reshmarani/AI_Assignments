{
 "cells": [
  {
   "cell_type": "code",
   "execution_count": 16,
   "metadata": {},
   "outputs": [
    {
     "name": "stdout",
     "output_type": "stream",
     "text": [
      "shanghai\n",
      "mumbai\n",
      "istanbul\n",
      "karachi\n"
     ]
    }
   ],
   "source": [
    "population={\n",
    "    \"shanghai\":\"12\",\n",
    "    \"mumbai\"  :\"13.5\",\n",
    "    \"istanbul\":\"11\",\n",
    "     \"karachi\":\"10\"\n",
    "}\n",
    "for key in population:\n",
    "    print(key)\n",
    "    "
   ]
  },
  {
   "cell_type": "code",
   "execution_count": 26,
   "metadata": {},
   "outputs": [
    {
     "name": "stdout",
     "output_type": "stream",
     "text": [
      "{'dogs': [20, 10, 15, 14, 8.32], 'cats': [3, 4, 2, 8], 'rabbits': [2, 3, 3], 'fish': [0.3, 0.5]}\n",
      "[20, 10, 15, 14, 8.32]\n",
      "[3, 4, 2, 8]\n",
      "[0.3, 0.5]\n"
     ]
    }
   ],
   "source": [
    "animals={'dogs':[20,10,15,14,8.32],'cats':[3,4,2,8],'rabbits':[2,3,3],'fish':[0.3,0.5]}\n",
    "print(animals)\n",
    "print(animals['dogs'])\n",
    "print(animals['cats'])\n",
    "print(animals['fish'])"
   ]
  },
  {
   "cell_type": "code",
   "execution_count": 27,
   "metadata": {},
   "outputs": [
    {
     "name": "stdout",
     "output_type": "stream",
     "text": [
      "6\n"
     ]
    }
   ],
   "source": [
    "a=[1,2,2,3,3,3,4,4,4,4]\n",
    "b=set(a)\n",
    "print(len(a)-len(b))"
   ]
  },
  {
   "cell_type": "code",
   "execution_count": 28,
   "metadata": {},
   "outputs": [
    {
     "name": "stdout",
     "output_type": "stream",
     "text": [
      "True\n",
      "4\n"
     ]
    }
   ],
   "source": [
    "tuple_a=3,4\n",
    "tuple_b=(3,4)\n",
    "print(tuple_a==tuple_b)\n",
    "print(tuple_a[1])"
   ]
  },
  {
   "cell_type": "code",
   "execution_count": 30,
   "metadata": {},
   "outputs": [
    {
     "name": "stdout",
     "output_type": "stream",
     "text": [
      "albert&ben&carol&donna\n"
     ]
    }
   ],
   "source": [
    "names=[\"carol\",\"albert\",\"ben\",\"donna\"]\n",
    "print(\"&\".join(sorted(names)))"
   ]
  },
  {
   "cell_type": "code",
   "execution_count": null,
   "metadata": {},
   "outputs": [],
   "source": []
  }
 ],
 "metadata": {
  "kernelspec": {
   "display_name": "Python 3",
   "language": "python",
   "name": "python3"
  },
  "language_info": {
   "codemirror_mode": {
    "name": "ipython",
    "version": 3
   },
   "file_extension": ".py",
   "mimetype": "text/x-python",
   "name": "python",
   "nbconvert_exporter": "python",
   "pygments_lexer": "ipython3",
   "version": "3.7.3"
  }
 },
 "nbformat": 4,
 "nbformat_minor": 2
}
